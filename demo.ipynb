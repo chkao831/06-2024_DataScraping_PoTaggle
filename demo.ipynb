{
 "cells": [
  {
   "cell_type": "markdown",
   "metadata": {},
   "source": [
    "# Data Scraping Using Prompt Engineering in Generative AI"
   ]
  },
  {
   "cell_type": "markdown",
   "metadata": {},
   "source": [
    "Carolyn Kao (carolyn.kao@lseg.com)\\\n",
    "July 15, 2024"
   ]
  },
  {
   "cell_type": "markdown",
   "metadata": {},
   "source": [
    "**Disclaimer**\n",
    "\n",
    ">> This Jupyter notebook is intended solely for demonstration purposes. The content herein is unofficial and does not contain any proprietary or confidential information belonging to LSEG. All data used in this notebook is publicly available or generated for the purposes of this demo.\n",
    ">> Furthermore, this notebook does not include the final solutions submitted for PoTaggle III and is not a representation of the final product or solution."
   ]
  },
  {
   "cell_type": "markdown",
   "metadata": {},
   "source": [
    ">> This tutorial is partially checked in to https://github.com/chkao831/06-2024_DataScraping_PoTaggle/"
   ]
  },
  {
   "cell_type": "markdown",
   "metadata": {},
   "source": [
    "## Objective"
   ]
  },
  {
   "cell_type": "markdown",
   "metadata": {},
   "source": [
    "Given some target url's, the aim is to scrape data for various companies in terms of their earnings release and earnings call, without the need for manual data entry or collection. "
   ]
  },
  {
   "cell_type": "markdown",
   "metadata": {},
   "source": [
    "<img src=\"./images/DALLE_beautifulsoup.png\" alt=\"drawing\" width=\"50%\"/>"
   ]
  },
  {
   "cell_type": "markdown",
   "metadata": {},
   "source": [
    "## Project Setup"
   ]
  },
  {
   "cell_type": "markdown",
   "metadata": {},
   "source": [
    "You need an API key to call the Gemini API. \\\n",
    "Get an API key at https://aistudio.google.com/app/apikey"
   ]
  },
  {
   "cell_type": "markdown",
   "metadata": {},
   "source": [
    "The `config.py` is not checked in due to security reason. Please refer to `config_sample.py` for an example."
   ]
  },
  {
   "cell_type": "code",
   "execution_count": 1,
   "metadata": {},
   "outputs": [
    {
     "name": "stderr",
     "output_type": "stream",
     "text": [
      "/Users/chkao831/code_hub/scraping/py_env/lib/python3.12/site-packages/tqdm/auto.py:21: TqdmWarning: IProgress not found. Please update jupyter and ipywidgets. See https://ipywidgets.readthedocs.io/en/stable/user_install.html\n",
      "  from .autonotebook import tqdm as notebook_tqdm\n"
     ]
    }
   ],
   "source": [
    "import google.generativeai as genai\n",
    "from config import API_KEY"
   ]
  },
  {
   "cell_type": "code",
   "execution_count": 2,
   "metadata": {},
   "outputs": [],
   "source": [
    "import textwrap\n",
    "from IPython.display import Markdown\n",
    "\n",
    "def to_markdown(text):\n",
    "  text = text.replace('•', '  *')\n",
    "  return Markdown(textwrap.indent(text, '> ', predicate=lambda _: True))"
   ]
  },
  {
   "cell_type": "code",
   "execution_count": 3,
   "metadata": {},
   "outputs": [],
   "source": [
    "# Access your API key as an environment variable.\n",
    "genai.configure(api_key=API_KEY) # os.environ['API_KEY']\n",
    "\n",
    "# Choose a model that's appropriate for your use case.\n",
    "model = genai.GenerativeModel('gemini-1.5-pro-latest')"
   ]
  },
  {
   "cell_type": "markdown",
   "metadata": {},
   "source": [
    "| Model variant | Input(s) | Output | Optimized for |\n",
    "|---|---|---|---|\n",
    "| Gemini 1.5 Pro | Audio, images, videos, and text | Text | Complex reasoning tasks such as code and text generation, text editing, problem solving, data extraction and generation |\n",
    "| Gemini 1.5 Flash | Audio, images, videos, and text | Text | Fast and versatile performance across a diverse variety of tasks |\n"
   ]
  },
  {
   "cell_type": "markdown",
   "metadata": {},
   "source": [
    "## Response Generation"
   ]
  },
  {
   "cell_type": "code",
   "execution_count": 4,
   "metadata": {},
   "outputs": [
    {
     "data": {
      "text/markdown": [
       "> Function calling in generative AI API calls lets you connect your AI model to external tools and APIs.  Instead of just generating text, the model can now **understand your intent to use a tool**,  **figure out what information it needs**, and then **make that API call for you**. \n",
       "> \n",
       "> Think of it like this: you're asking a helpful assistant to do something that requires more than just talking.  \n"
      ],
      "text/plain": [
       "<IPython.core.display.Markdown object>"
      ]
     },
     "execution_count": 4,
     "metadata": {},
     "output_type": "execute_result"
    }
   ],
   "source": [
    "prompt = \"Introduce, very briefly, about what function calling is in generative ai api call?\"\n",
    "response = model.generate_content(prompt)\n",
    "\n",
    "to_markdown(response.text)"
   ]
  },
  {
   "cell_type": "markdown",
   "metadata": {},
   "source": [
    "### Temperature and Max Output Token"
   ]
  },
  {
   "cell_type": "code",
   "execution_count": 5,
   "metadata": {},
   "outputs": [],
   "source": [
    "model = genai.GenerativeModel(\n",
    "    'gemini-1.5-pro-latest',\n",
    "    generation_config=genai.GenerationConfig(\n",
    "        max_output_tokens=100,\n",
    "        temperature=2,\n",
    "    ))"
   ]
  },
  {
   "cell_type": "markdown",
   "metadata": {},
   "source": [
    "Every prompt you send to the model includes parameters that control how the model generates responses. You can use GenerationConfig to configure these parameters. If you don't configure the parameters, the model uses default options, which can vary by model."
   ]
  },
  {
   "cell_type": "markdown",
   "metadata": {},
   "source": [
    "<img src=\"./images/temperature.png\" alt=\"drawing\" width=\"50%\"/>"
   ]
  },
  {
   "cell_type": "markdown",
   "metadata": {},
   "source": [
    "`temperature` controls the randomness of the output. Use higher values for more creative responses, and lower values for more deterministic responses. Values can range from [0.0, 2.0].\n",
    "\n",
    "`maxOutputTokens` sets the maximum number of tokens to include in a candidate."
   ]
  },
  {
   "cell_type": "code",
   "execution_count": 6,
   "metadata": {},
   "outputs": [
    {
     "data": {
      "text/markdown": [
       "> Function calling in generative AI API calls lets you connect your AI model to external tools or APIs. \n",
       "> \n",
       "> **Simply put, you can now give the AI instructions that include using specific functions (like calculations, database lookups, or other API interactions) to generate richer, more dynamic responses.** \n"
      ],
      "text/plain": [
       "<IPython.core.display.Markdown object>"
      ]
     },
     "execution_count": 6,
     "metadata": {},
     "output_type": "execute_result"
    }
   ],
   "source": [
    "response = model.generate_content(prompt)\n",
    "\n",
    "to_markdown(response.text)"
   ]
  },
  {
   "cell_type": "code",
   "execution_count": 7,
   "metadata": {},
   "outputs": [
    {
     "data": {
      "text/markdown": [
       "> Function calling in generative AI API calls allows you to describe functions to the AI model, which it can then intelligently choose to use when generating its response.  Instead of just giving you text, the AI can now return structured data indicating a function to call and the data needed for that function. This lets you connect the AI to your own tools and systems, making it much more powerful and useful for building applications. \n"
      ],
      "text/plain": [
       "<IPython.core.display.Markdown object>"
      ]
     },
     "execution_count": 7,
     "metadata": {},
     "output_type": "execute_result"
    }
   ],
   "source": [
    "model = genai.GenerativeModel(\n",
    "    'gemini-1.5-pro-latest',\n",
    "    generation_config=genai.GenerationConfig(\n",
    "        max_output_tokens=200,\n",
    "        temperature=0,\n",
    "    ))\n",
    "\n",
    "response = model.generate_content(prompt)\n",
    "to_markdown(response.text)"
   ]
  },
  {
   "cell_type": "markdown",
   "metadata": {},
   "source": [
    "## Extract text from a URL using BeautifulSoup"
   ]
  },
  {
   "cell_type": "markdown",
   "metadata": {},
   "source": [
    "<img src=\"./images/soup.png\" alt=\"drawing\" width=\"50%\"/>"
   ]
  },
  {
   "cell_type": "code",
   "execution_count": 8,
   "metadata": {},
   "outputs": [],
   "source": [
    "from bs4 import BeautifulSoup\n",
    "import requests"
   ]
  },
  {
   "cell_type": "code",
   "execution_count": 9,
   "metadata": {},
   "outputs": [],
   "source": [
    "url = 'http://newsfile.refinitiv.com/getnewsfile/v1/story?guid=urn:newsml:reuters.com:20231220:nPn2HTQZpa&default-theme=true'"
   ]
  },
  {
   "cell_type": "code",
   "execution_count": 10,
   "metadata": {},
   "outputs": [],
   "source": [
    "response = requests.get(url)\n",
    "soup = BeautifulSoup(response.content, 'html.parser')\n",
    "text_content = soup.get_text()\n",
    "clean_text = ' '.join(text_content.split()).strip()"
   ]
  },
  {
   "cell_type": "code",
   "execution_count": 11,
   "metadata": {},
   "outputs": [
    {
     "data": {
      "text/markdown": [
       "> JELD-WEN to Release Fourth Quarter and Full Year 2023 Results JELD-WEN to Release Fourth Quarter and Full Year 2023 Results PR Newswire CHARLOTTE, N.C., Dec. 20, 2023 CHARLOTTE, N.C., Dec. 20, 2023 /PRNewswire/ -- JELD-WEN Holding, Inc. (NYSE: JELD), a leading global manufacturer of building products, announced today that it will release fourth quarter and full year 2023 results on Monday, February 19, 2024. The company will hold a conference call to discuss the results at 8 a.m. ET on Tuesday, February 20, 2024. Interested investors and other parties can access the call either via webcast by visiting the Investor Relations section of the company's website at https://investors.jeld-wen.com, or by dialing 888-330-2446 from the United States or +1-240-789-2732 internationally and using the conference ID 1285715. For those unable to listen to the live event, a replay will be available on the company's website approximately two hours following completion of the call. To learn more about JELD-WEN, please visit the company's website at https://corporate.jeld-wen.com. About JELD-WEN Holding, Inc.JELD-WEN is a leading global designer, manufacturer and distributor of high-performance interior and exterior doors, windows, and related building products serving the new construction and repair and remodeling sectors. Headquartered in Charlotte, N.C., the company operates facilities in 16 countries in North America and Europe and employs approximately 18,000 people. Since 1960, the JELD-WEN team has been committed to making quality products that create safe and sustainable environments for customers, associates and local communities. The JELD-WEN family of brands includes JELD-WEN® worldwide; LaCantina™ and VPI™ in North America; and Swedoor® and DANA® in Europe. For more information, visit corporate.jeld-wen.com. Media Contact:Colleen PenhallVice President, Corporate Communications980-322-2681cpenhall@jeldwen.com Investor Relations Contact:James ArmstrongVice President, Investor Relations704-378-5731jarmstrong@jeldwen.com View original content to download multimedia:https://www.prnewswire.com/news-releases/jeld-wen-to-release-fourth-quarter-and-full-year-2023-results-302012716.html SOURCE JELD-WEN Holding, Inc."
      ],
      "text/plain": [
       "<IPython.core.display.Markdown object>"
      ]
     },
     "execution_count": 11,
     "metadata": {},
     "output_type": "execute_result"
    }
   ],
   "source": [
    "to_markdown(clean_text)"
   ]
  },
  {
   "cell_type": "code",
   "execution_count": 12,
   "metadata": {},
   "outputs": [
    {
     "name": "stdout",
     "output_type": "stream",
     "text": [
      "None\n"
     ]
    }
   ],
   "source": [
    "organization_name = soup.find('div', class_='organization')\n",
    "print(organization_name)"
   ]
  },
  {
   "cell_type": "markdown",
   "metadata": {},
   "source": [
    "## Function Calling"
   ]
  },
  {
   "cell_type": "markdown",
   "metadata": {},
   "source": [
    "### What's the problem above?"
   ]
  },
  {
   "cell_type": "markdown",
   "metadata": {},
   "source": [
    "-- **Limited Context Understanding**!!\n",
    "\n",
    "- Limitation: BeautifulSoup extracts data based on specified tags and classes without understanding the context or semantic meaning of the content.\n",
    "- Impact: This can lead to incorrect data extraction if the target information is not well-defined or context-dependent.\n"
   ]
  },
  {
   "cell_type": "markdown",
   "metadata": {},
   "source": [
    "reference: https://ai.google.dev/gemini-api/docs/function-calling"
   ]
  },
  {
   "cell_type": "markdown",
   "metadata": {},
   "source": [
    "### A simplified example for data scraping"
   ]
  },
  {
   "cell_type": "code",
   "execution_count": 13,
   "metadata": {},
   "outputs": [],
   "source": [
    "model = genai.GenerativeModel(model_name='gemini-1.5-pro-latest')"
   ]
  },
  {
   "cell_type": "code",
   "execution_count": 14,
   "metadata": {},
   "outputs": [],
   "source": [
    "prompt = f\"\"\"\n",
    "I am reading a financial news. I heard that the company will \n",
    "be holding a call to discuss the year results. \n",
    "Please extract the timezone and the call date for me.\n",
    "\n",
    "The financial news is extracted as {clean_text}\n",
    "\"\"\""
   ]
  },
  {
   "cell_type": "code",
   "execution_count": 15,
   "metadata": {},
   "outputs": [],
   "source": [
    "chat = model.start_chat()\n",
    "response = chat.send_message(prompt)"
   ]
  },
  {
   "cell_type": "code",
   "execution_count": 16,
   "metadata": {},
   "outputs": [
    {
     "data": {
      "text/plain": [
       "'The conference call is scheduled for **Tuesday, February 20, 2024**, at **8 a.m. ET** (Eastern Time). \\n'"
      ]
     },
     "execution_count": 16,
     "metadata": {},
     "output_type": "execute_result"
    }
   ],
   "source": [
    "response.text"
   ]
  },
  {
   "cell_type": "markdown",
   "metadata": {},
   "source": [
    "### Again, what's the problem above?"
   ]
  },
  {
   "cell_type": "markdown",
   "metadata": {},
   "source": [
    "-- **Unstable output format**!!"
   ]
  },
  {
   "cell_type": "markdown",
   "metadata": {},
   "source": [
    "Custom functions can be defined and provided to Gemini models using the Function Calling feature. The models do not directly invoke these functions, but instead generate structured data output that specifies the function name and suggested arguments. \n",
    "\n",
    "This output lets you write applications that take the structured output and call external APIs, and the resulting API output can then be incorporated into a further model prompt, allowing for more comprehensive query responses."
   ]
  },
  {
   "cell_type": "markdown",
   "metadata": {},
   "source": [
    "| Parameter | Type | Required | Description |\n",
    "|---|---|---|---|\n",
    "| time_zone | string | yes | The time zone of the specified event. |\n",
    "| date | string| yes | The date of the event. |"
   ]
  },
  {
   "cell_type": "code",
   "execution_count": 17,
   "metadata": {},
   "outputs": [],
   "source": [
    "def get_time_and_date(time_zone: str, date: str):\n",
    "    \"\"\"Get the time zone and the date of a specified event. \n",
    "\n",
    "    Args:\n",
    "        time_zone: The time zone of the specified event\n",
    "        date: The date of the event\n",
    "\n",
    "    Returns:\n",
    "        A dictionary containing the set time_zone and date.\n",
    "    \"\"\"\n",
    "    return {\n",
    "        \"time_zone\": time_zone,\n",
    "        \"date\": date\n",
    "    }"
   ]
  },
  {
   "cell_type": "code",
   "execution_count": 18,
   "metadata": {},
   "outputs": [],
   "source": [
    "model = genai.GenerativeModel(model_name='gemini-1.5-pro-latest',\n",
    "                              tools=[get_time_and_date])"
   ]
  },
  {
   "cell_type": "code",
   "execution_count": 19,
   "metadata": {},
   "outputs": [],
   "source": [
    "chat = model.start_chat()\n",
    "response = chat.send_message(prompt)"
   ]
  },
  {
   "cell_type": "code",
   "execution_count": 20,
   "metadata": {},
   "outputs": [
    {
     "data": {
      "text/plain": [
       "[parts {\n",
       "   text: \"\\nI am reading a financial news. I heard that the company will \\nbe holding a call to discuss the year results. \\nPlease extract the timezone and the call date for me.\\n\\nThe financial news is extracted as JELD-WEN to Release Fourth Quarter and Full Year 2023 Results JELD-WEN to Release Fourth Quarter and Full Year 2023 Results PR Newswire CHARLOTTE, N.C., Dec. 20, 2023 CHARLOTTE, N.C., Dec. 20, 2023 /PRNewswire/ -- JELD-WEN Holding, Inc. (NYSE: JELD), a leading global manufacturer of building products, announced today that it will release fourth quarter and full year 2023 results on Monday, February 19, 2024. The company will hold a conference call to discuss the results at 8 a.m. ET on Tuesday, February 20, 2024. Interested investors and other parties can access the call either via webcast by visiting the Investor Relations section of the company\\'s website at https://investors.jeld-wen.com, or by dialing 888-330-2446 from the United States or +1-240-789-2732 internationally and using the conference ID 1285715. For those unable to listen to the live event, a replay will be available on the company\\'s website approximately two hours following completion of the call. To learn more about JELD-WEN, please visit the company\\'s website at https://corporate.jeld-wen.com. About JELD-WEN Holding, Inc.JELD-WEN is a leading global designer, manufacturer and distributor of high-performance interior and exterior doors, windows, and related building products serving the new construction and repair and remodeling sectors. Headquartered in Charlotte, N.C., the company operates facilities in 16 countries in North America and Europe and employs approximately 18,000 people. Since 1960, the JELD-WEN team has been committed to making quality products that create safe and sustainable environments for customers, associates and local communities. The JELD-WEN family of brands includes JELD-WEN® worldwide; LaCantina™ and VPI™ in North America; and Swedoor® and DANA® in Europe. For more information, visit corporate.jeld-wen.com. Media Contact:Colleen PenhallVice President, Corporate Communications980-322-2681cpenhall@jeldwen.com Investor Relations Contact:James ArmstrongVice President, Investor Relations704-378-5731jarmstrong@jeldwen.com View original content to download multimedia:https://www.prnewswire.com/news-releases/jeld-wen-to-release-fourth-quarter-and-full-year-2023-results-302012716.html SOURCE JELD-WEN Holding, Inc.\\n\"\n",
       " }\n",
       " role: \"user\",\n",
       " parts {\n",
       "   function_call {\n",
       "     name: \"get_time_and_date\"\n",
       "     args {\n",
       "       fields {\n",
       "         key: \"time_zone\"\n",
       "         value {\n",
       "           string_value: \"ET\"\n",
       "         }\n",
       "       }\n",
       "       fields {\n",
       "         key: \"date\"\n",
       "         value {\n",
       "           string_value: \"February 20, 2024\"\n",
       "         }\n",
       "       }\n",
       "     }\n",
       "   }\n",
       " }\n",
       " role: \"model\"]"
      ]
     },
     "execution_count": 20,
     "metadata": {},
     "output_type": "execute_result"
    }
   ],
   "source": [
    "chat.history"
   ]
  },
  {
   "cell_type": "code",
   "execution_count": 21,
   "metadata": {},
   "outputs": [
    {
     "name": "stdout",
     "output_type": "stream",
     "text": [
      "Parameter: date\n",
      "Output: February 20, 2024\n",
      "Parameter: time_zone\n",
      "Output: ET\n"
     ]
    }
   ],
   "source": [
    "for k, v in chat.history[-1].parts[0].function_call.args.items():\n",
    "    print(f'Parameter: {k}')\n",
    "    print(f'Output: {v}')"
   ]
  },
  {
   "cell_type": "markdown",
   "metadata": {},
   "source": [
    "To even fine tune to a desired format..."
   ]
  },
  {
   "cell_type": "code",
   "execution_count": 22,
   "metadata": {},
   "outputs": [],
   "source": [
    "prompt = f\"\"\"\n",
    "I am reading a financial news. I heard that the company will \n",
    "be holding a call to discuss the year results. \n",
    "Please extract the timezone and the call date for me.\n",
    "\n",
    "Please note that after extracting the time zone, if it's an abbreviation, \n",
    "help me convert to its full term at your knowledge. \n",
    "And please convert the time to YYYY/MM/DD format. \n",
    "\n",
    "The financial news is extracted as {clean_text}\n",
    "\"\"\""
   ]
  },
  {
   "cell_type": "code",
   "execution_count": 23,
   "metadata": {},
   "outputs": [],
   "source": [
    "response = chat.send_message(prompt)"
   ]
  },
  {
   "cell_type": "code",
   "execution_count": 24,
   "metadata": {},
   "outputs": [
    {
     "data": {
      "text/plain": [
       "response:\n",
       "GenerateContentResponse(\n",
       "    done=True,\n",
       "    iterator=None,\n",
       "    result=glm.GenerateContentResponse({\n",
       "      \"candidates\": [\n",
       "        {\n",
       "          \"content\": {\n",
       "            \"parts\": [\n",
       "              {\n",
       "                \"function_call\": {\n",
       "                  \"name\": \"get_time_and_date\",\n",
       "                  \"args\": {\n",
       "                    \"date\": \"2024/02/20\",\n",
       "                    \"time_zone\": \"Eastern Time\"\n",
       "                  }\n",
       "                }\n",
       "              }\n",
       "            ],\n",
       "            \"role\": \"model\"\n",
       "          },\n",
       "          \"finish_reason\": 1,\n",
       "          \"index\": 0,\n",
       "          \"safety_ratings\": [\n",
       "            {\n",
       "              \"category\": 8,\n",
       "              \"probability\": 1,\n",
       "              \"blocked\": false\n",
       "            },\n",
       "            {\n",
       "              \"category\": 7,\n",
       "              \"probability\": 1,\n",
       "              \"blocked\": false\n",
       "            },\n",
       "            {\n",
       "              \"category\": 9,\n",
       "              \"probability\": 1,\n",
       "              \"blocked\": false\n",
       "            },\n",
       "            {\n",
       "              \"category\": 10,\n",
       "              \"probability\": 1,\n",
       "              \"blocked\": false\n",
       "            }\n",
       "          ],\n",
       "          \"token_count\": 0,\n",
       "          \"grounding_attributions\": []\n",
       "        }\n",
       "      ],\n",
       "      \"usage_metadata\": {\n",
       "        \"prompt_token_count\": 1521,\n",
       "        \"candidates_token_count\": 36,\n",
       "        \"total_token_count\": 1557\n",
       "      }\n",
       "    }),\n",
       ")"
      ]
     },
     "execution_count": 24,
     "metadata": {},
     "output_type": "execute_result"
    }
   ],
   "source": [
    "response"
   ]
  },
  {
   "cell_type": "code",
   "execution_count": 25,
   "metadata": {},
   "outputs": [
    {
     "name": "stdout",
     "output_type": "stream",
     "text": [
      "Parameter: date\n",
      "Output: 2024/02/20\n",
      "Parameter: time_zone\n",
      "Output: Eastern Time\n"
     ]
    }
   ],
   "source": [
    "for k, v in chat.history[-1].parts[0].function_call.args.items():\n",
    "    print(f'Parameter: {k}')\n",
    "    print(f'Output: {v}')"
   ]
  },
  {
   "cell_type": "code",
   "execution_count": 26,
   "metadata": {},
   "outputs": [],
   "source": [
    "fc = response.candidates[0].content.parts[0].function_call"
   ]
  },
  {
   "cell_type": "code",
   "execution_count": 27,
   "metadata": {},
   "outputs": [
    {
     "data": {
      "text/plain": [
       "name: \"get_time_and_date\"\n",
       "args {\n",
       "  fields {\n",
       "    key: \"time_zone\"\n",
       "    value {\n",
       "      string_value: \"Eastern Time\"\n",
       "    }\n",
       "  }\n",
       "  fields {\n",
       "    key: \"date\"\n",
       "    value {\n",
       "      string_value: \"2024/02/20\"\n",
       "    }\n",
       "  }\n",
       "}"
      ]
     },
     "execution_count": 27,
     "metadata": {},
     "output_type": "execute_result"
    }
   ],
   "source": [
    "fc"
   ]
  },
  {
   "cell_type": "code",
   "execution_count": 28,
   "metadata": {},
   "outputs": [],
   "source": [
    "assert fc.name == 'get_time_and_date'"
   ]
  },
  {
   "cell_type": "code",
   "execution_count": 29,
   "metadata": {},
   "outputs": [
    {
     "data": {
      "text/plain": [
       "'Eastern Time'"
      ]
     },
     "execution_count": 29,
     "metadata": {},
     "output_type": "execute_result"
    }
   ],
   "source": [
    "fc.args['time_zone']"
   ]
  },
  {
   "cell_type": "code",
   "execution_count": 30,
   "metadata": {},
   "outputs": [
    {
     "data": {
      "text/plain": [
       "'2024/02/20'"
      ]
     },
     "execution_count": 30,
     "metadata": {},
     "output_type": "execute_result"
    }
   ],
   "source": [
    "fc.args['date']"
   ]
  },
  {
   "cell_type": "markdown",
   "metadata": {},
   "source": [
    "## Appendix: Wrap things up together"
   ]
  },
  {
   "cell_type": "markdown",
   "metadata": {},
   "source": [
    "For demo purpose only. \n",
    "- prerequisite: fill in the url's and question prompt in `config.py`"
   ]
  },
  {
   "cell_type": "code",
   "execution_count": 31,
   "metadata": {},
   "outputs": [],
   "source": [
    "from config import url_list, question_prompt\n",
    "from util import aggregate_information_into_json\n",
    "import pandas as pd"
   ]
  },
  {
   "cell_type": "code",
   "execution_count": 32,
   "metadata": {},
   "outputs": [
    {
     "name": "stdout",
     "output_type": "stream",
     "text": [
      "Working on http://newsfile.refinitiv.com/getnewsfile/v1/story?guid=urn:newsml:reuters.com:20231220:nPn2HTQZpa&default-theme=true\n"
     ]
    },
    {
     "name": "stdout",
     "output_type": "stream",
     "text": [
      "Working on http://www.apog.com/news-releases/news-release-details/apogee-enterprises-announces-date-fiscal-2024-third-quarter\n",
      "Working on http://investors.lee.net/news-releases/news-release-details/lee-enterprises-plans-quarterly-call-and-webcast-december-7-2023\n",
      "Working on http://newsfile.refinitiv.com/getnewsfile/v1/story?guid=urn:newsml:reuters.com:20231204:nBwb4LlQSa&default-theme=true\n",
      "'NoneType' object has no attribute 'items'\n",
      "Working on http://radioone.gcs-web.com/news-releases/news-release-details/urban-one-inc-first-and-second-quarter-2023-results-conference\n",
      "Working on http://investors.asana.com/news-releases/news-release-details/asana-announce-third-quarter-fiscal-year-2024-financial-results\n"
     ]
    }
   ],
   "source": [
    "columns = ['Event', 'Org', 'Ticker', 'TimeFrame', 'Date', 'MarketPhase', 'Estimate Days', 'Time', 'Timezone', 'Website', 'Phone_Number', 'Passcode', 'url']\n",
    "df = pd.DataFrame(columns=columns)\n",
    "\n",
    "model = genai.GenerativeModel(model_name='gemini-1.5-pro-latest', tools=[aggregate_information_into_json])\n",
    "num_trials = 5\n",
    "\n",
    "for url in url_list:\n",
    "    print(f\"Working on {url}\")\n",
    "    res = {}\n",
    "    response = requests.get(url)\n",
    "    soup = BeautifulSoup(response.content, 'html.parser')\n",
    "    text_content = soup.get_text()\n",
    "    clean_text = ' '.join(text_content.split()).strip()\n",
    "    for _ in range(num_trials):\n",
    "        try:\n",
    "            chat = model.start_chat()\n",
    "            response = chat.send_message(\n",
    "                f\"{question_prompt}. The release text is {clean_text}.\")\n",
    "            for param, data in chat.history[-1].parts[0].function_call.args.items():\n",
    "                res[param]=data\n",
    "\n",
    "            row_release = {\n",
    "                'Event': 'Earnings Release',\n",
    "                'Org': res['organization_name'],\n",
    "                'Ticker': res['ticker'],\n",
    "                'TimeFrame': res['release_time_quarter'],\n",
    "                'Date': res['news_release_date'],\n",
    "                'MarketPhase': res['market_phase'],\n",
    "                'url': url\n",
    "            }\n",
    "            row_call = {\n",
    "                'Event': 'Earnings Call',\n",
    "                'Org': res['organization_name'],\n",
    "                'Ticker': res['ticker'],\n",
    "                'TimeFrame': res['release_time_quarter'],\n",
    "                'Date': res['call_date'],\n",
    "                'Time': res['call_time'],\n",
    "                'Timezone': res['release_timezone'],\n",
    "                'Website': res['website'],\n",
    "                'Phone_Number': res['phone_number'],\n",
    "                'Passcode': res['passcode'],\n",
    "                'url': url\n",
    "            }\n",
    "            df = pd.concat([df, pd.DataFrame([row_release])], ignore_index=True)\n",
    "            df = pd.concat([df, pd.DataFrame([row_call])], ignore_index=True)\n",
    "            break\n",
    "        except Exception as e:\n",
    "            print(e)"
   ]
  },
  {
   "cell_type": "code",
   "execution_count": 33,
   "metadata": {},
   "outputs": [
    {
     "data": {
      "text/html": [
       "<div>\n",
       "<style scoped>\n",
       "    .dataframe tbody tr th:only-of-type {\n",
       "        vertical-align: middle;\n",
       "    }\n",
       "\n",
       "    .dataframe tbody tr th {\n",
       "        vertical-align: top;\n",
       "    }\n",
       "\n",
       "    .dataframe thead th {\n",
       "        text-align: right;\n",
       "    }\n",
       "</style>\n",
       "<table border=\"1\" class=\"dataframe\">\n",
       "  <thead>\n",
       "    <tr style=\"text-align: right;\">\n",
       "      <th></th>\n",
       "      <th>Event</th>\n",
       "      <th>Org</th>\n",
       "      <th>Ticker</th>\n",
       "      <th>TimeFrame</th>\n",
       "      <th>Date</th>\n",
       "      <th>MarketPhase</th>\n",
       "      <th>Estimate Days</th>\n",
       "      <th>Time</th>\n",
       "      <th>Timezone</th>\n",
       "      <th>Website</th>\n",
       "      <th>Phone_Number</th>\n",
       "      <th>Passcode</th>\n",
       "      <th>url</th>\n",
       "    </tr>\n",
       "  </thead>\n",
       "  <tbody>\n",
       "    <tr>\n",
       "      <th>0</th>\n",
       "      <td>Earnings Release</td>\n",
       "      <td>[JELD-WEN]</td>\n",
       "      <td>[NYSE:JELD]</td>\n",
       "      <td>[[q4, 2023]]</td>\n",
       "      <td>20/12/2023</td>\n",
       "      <td>[BMO]</td>\n",
       "      <td>NaN</td>\n",
       "      <td>NaN</td>\n",
       "      <td>NaN</td>\n",
       "      <td>NaN</td>\n",
       "      <td>NaN</td>\n",
       "      <td>NaN</td>\n",
       "      <td>http://newsfile.refinitiv.com/getnewsfile/v1/s...</td>\n",
       "    </tr>\n",
       "    <tr>\n",
       "      <th>1</th>\n",
       "      <td>Earnings Call</td>\n",
       "      <td>[JELD-WEN]</td>\n",
       "      <td>[NYSE:JELD]</td>\n",
       "      <td>[[q4, 2023]]</td>\n",
       "      <td>20/02/2024</td>\n",
       "      <td>NaN</td>\n",
       "      <td>NaN</td>\n",
       "      <td>8:00 am</td>\n",
       "      <td>UTC-05:00 Eastern Time (US &amp; Canada)</td>\n",
       "      <td>[https://investors.jeld-wen.com, https://corpo...</td>\n",
       "      <td>[[live, 888-330-2446,+1-240-789-2732], [replay...</td>\n",
       "      <td>[No Passcode Found]</td>\n",
       "      <td>http://newsfile.refinitiv.com/getnewsfile/v1/s...</td>\n",
       "    </tr>\n",
       "    <tr>\n",
       "      <th>2</th>\n",
       "      <td>Earnings Release</td>\n",
       "      <td>Apogee</td>\n",
       "      <td>NASDAQ:APOG</td>\n",
       "      <td>[[q3, 2024]]</td>\n",
       "      <td>07/12/2023</td>\n",
       "      <td>BMO</td>\n",
       "      <td>NaN</td>\n",
       "      <td>NaN</td>\n",
       "      <td>NaN</td>\n",
       "      <td>NaN</td>\n",
       "      <td>NaN</td>\n",
       "      <td>NaN</td>\n",
       "      <td>http://www.apog.com/news-releases/news-release...</td>\n",
       "    </tr>\n",
       "    <tr>\n",
       "      <th>3</th>\n",
       "      <td>Earnings Call</td>\n",
       "      <td>Apogee</td>\n",
       "      <td>NASDAQ:APOG</td>\n",
       "      <td>[[q3, 2024]]</td>\n",
       "      <td>21/12/2023</td>\n",
       "      <td>NaN</td>\n",
       "      <td>NaN</td>\n",
       "      <td>8:00 am</td>\n",
       "      <td>UTC-06:00 Central Time (US &amp; Canada)</td>\n",
       "      <td>[https://www.apog.com/events-and-presentations...</td>\n",
       "      <td>[[live, []], [replay, []]]</td>\n",
       "      <td>No Passcode Found</td>\n",
       "      <td>http://www.apog.com/news-releases/news-release...</td>\n",
       "    </tr>\n",
       "    <tr>\n",
       "      <th>4</th>\n",
       "      <td>Earnings Release</td>\n",
       "      <td>Lee Enterprises</td>\n",
       "      <td>NASDAQ:LEE</td>\n",
       "      <td>[[q4, 2023]]</td>\n",
       "      <td>December 01, 2023</td>\n",
       "      <td>BMO</td>\n",
       "      <td>NaN</td>\n",
       "      <td>NaN</td>\n",
       "      <td>NaN</td>\n",
       "      <td>NaN</td>\n",
       "      <td>NaN</td>\n",
       "      <td>NaN</td>\n",
       "      <td>http://investors.lee.net/news-releases/news-re...</td>\n",
       "    </tr>\n",
       "    <tr>\n",
       "      <th>5</th>\n",
       "      <td>Earnings Call</td>\n",
       "      <td>Lee Enterprises</td>\n",
       "      <td>NASDAQ:LEE</td>\n",
       "      <td>[[q4, 2023]]</td>\n",
       "      <td>December 7, 2023</td>\n",
       "      <td>NaN</td>\n",
       "      <td>NaN</td>\n",
       "      <td>9:00 am</td>\n",
       "      <td>UTC-06:00 Central Time</td>\n",
       "      <td>https://www.lee.net</td>\n",
       "      <td>No phone-number Found</td>\n",
       "      <td>No Passcode Found</td>\n",
       "      <td>http://investors.lee.net/news-releases/news-re...</td>\n",
       "    </tr>\n",
       "    <tr>\n",
       "      <th>6</th>\n",
       "      <td>Earnings Release</td>\n",
       "      <td>System1</td>\n",
       "      <td>NYSE:SST</td>\n",
       "      <td>[[q3, 2023]]</td>\n",
       "      <td>04/12/2023</td>\n",
       "      <td>AMC</td>\n",
       "      <td>NaN</td>\n",
       "      <td>NaN</td>\n",
       "      <td>NaN</td>\n",
       "      <td>NaN</td>\n",
       "      <td>NaN</td>\n",
       "      <td>NaN</td>\n",
       "      <td>http://newsfile.refinitiv.com/getnewsfile/v1/s...</td>\n",
       "    </tr>\n",
       "    <tr>\n",
       "      <th>7</th>\n",
       "      <td>Earnings Call</td>\n",
       "      <td>System1</td>\n",
       "      <td>NYSE:SST</td>\n",
       "      <td>[[q3, 2023]]</td>\n",
       "      <td>12/12/2023</td>\n",
       "      <td>NaN</td>\n",
       "      <td>NaN</td>\n",
       "      <td>5:00 pm</td>\n",
       "      <td>UTC-05:00 Eastern Time (US &amp; Canada)</td>\n",
       "      <td>[https://www.businesswire.com/news/home/202312...</td>\n",
       "      <td>[[live, []], [replay, []]]</td>\n",
       "      <td>[No Passcode Found]</td>\n",
       "      <td>http://newsfile.refinitiv.com/getnewsfile/v1/s...</td>\n",
       "    </tr>\n",
       "    <tr>\n",
       "      <th>8</th>\n",
       "      <td>Earnings Release</td>\n",
       "      <td>Urban One</td>\n",
       "      <td>NASDAQ:UONEK,UONE</td>\n",
       "      <td>[[q1, 2023], [q2, 2023]]</td>\n",
       "      <td>01/12/2023</td>\n",
       "      <td>BMO</td>\n",
       "      <td>NaN</td>\n",
       "      <td>NaN</td>\n",
       "      <td>NaN</td>\n",
       "      <td>NaN</td>\n",
       "      <td>NaN</td>\n",
       "      <td>NaN</td>\n",
       "      <td>http://radioone.gcs-web.com/news-releases/news...</td>\n",
       "    </tr>\n",
       "    <tr>\n",
       "      <th>9</th>\n",
       "      <td>Earnings Call</td>\n",
       "      <td>Urban One</td>\n",
       "      <td>NASDAQ:UONEK,UONE</td>\n",
       "      <td>[[q1, 2023], [q2, 2023]]</td>\n",
       "      <td>07/12/2023</td>\n",
       "      <td>NaN</td>\n",
       "      <td>NaN</td>\n",
       "      <td>10:00 am</td>\n",
       "      <td>EST</td>\n",
       "      <td>https://www.prnewswire.com/news-releases/urban...</td>\n",
       "      <td>1-844-721-7241, +1) 409-207-6955</td>\n",
       "      <td>7824764</td>\n",
       "      <td>http://radioone.gcs-web.com/news-releases/news...</td>\n",
       "    </tr>\n",
       "    <tr>\n",
       "      <th>10</th>\n",
       "      <td>Earnings Release</td>\n",
       "      <td>Asana</td>\n",
       "      <td>NYSE:ASAN,LTSE:ASAN</td>\n",
       "      <td>[[q3, 2024]]</td>\n",
       "      <td>01/11/2023</td>\n",
       "      <td>AMC</td>\n",
       "      <td>NaN</td>\n",
       "      <td>NaN</td>\n",
       "      <td>NaN</td>\n",
       "      <td>NaN</td>\n",
       "      <td>NaN</td>\n",
       "      <td>NaN</td>\n",
       "      <td>http://investors.asana.com/news-releases/news-...</td>\n",
       "    </tr>\n",
       "    <tr>\n",
       "      <th>11</th>\n",
       "      <td>Earnings Call</td>\n",
       "      <td>Asana</td>\n",
       "      <td>NYSE:ASAN,LTSE:ASAN</td>\n",
       "      <td>[[q3, 2024]]</td>\n",
       "      <td>05/12/2023</td>\n",
       "      <td>NaN</td>\n",
       "      <td>NaN</td>\n",
       "      <td>4:30 pm</td>\n",
       "      <td>UTC-05:00 Eastern Time (US &amp; Canada)</td>\n",
       "      <td>https://investors.asana.com,https://www.busine...</td>\n",
       "      <td>No phone-number Found</td>\n",
       "      <td>No Passcode Found</td>\n",
       "      <td>http://investors.asana.com/news-releases/news-...</td>\n",
       "    </tr>\n",
       "  </tbody>\n",
       "</table>\n",
       "</div>"
      ],
      "text/plain": [
       "               Event              Org               Ticker  \\\n",
       "0   Earnings Release       [JELD-WEN]          [NYSE:JELD]   \n",
       "1      Earnings Call       [JELD-WEN]          [NYSE:JELD]   \n",
       "2   Earnings Release           Apogee          NASDAQ:APOG   \n",
       "3      Earnings Call           Apogee          NASDAQ:APOG   \n",
       "4   Earnings Release  Lee Enterprises           NASDAQ:LEE   \n",
       "5      Earnings Call  Lee Enterprises           NASDAQ:LEE   \n",
       "6   Earnings Release          System1             NYSE:SST   \n",
       "7      Earnings Call          System1             NYSE:SST   \n",
       "8   Earnings Release        Urban One    NASDAQ:UONEK,UONE   \n",
       "9      Earnings Call        Urban One    NASDAQ:UONEK,UONE   \n",
       "10  Earnings Release            Asana  NYSE:ASAN,LTSE:ASAN   \n",
       "11     Earnings Call            Asana  NYSE:ASAN,LTSE:ASAN   \n",
       "\n",
       "                   TimeFrame               Date MarketPhase Estimate Days  \\\n",
       "0               [[q4, 2023]]         20/12/2023       [BMO]           NaN   \n",
       "1               [[q4, 2023]]         20/02/2024         NaN           NaN   \n",
       "2               [[q3, 2024]]         07/12/2023         BMO           NaN   \n",
       "3               [[q3, 2024]]         21/12/2023         NaN           NaN   \n",
       "4               [[q4, 2023]]  December 01, 2023         BMO           NaN   \n",
       "5               [[q4, 2023]]   December 7, 2023         NaN           NaN   \n",
       "6               [[q3, 2023]]         04/12/2023         AMC           NaN   \n",
       "7               [[q3, 2023]]         12/12/2023         NaN           NaN   \n",
       "8   [[q1, 2023], [q2, 2023]]         01/12/2023         BMO           NaN   \n",
       "9   [[q1, 2023], [q2, 2023]]         07/12/2023         NaN           NaN   \n",
       "10              [[q3, 2024]]         01/11/2023         AMC           NaN   \n",
       "11              [[q3, 2024]]         05/12/2023         NaN           NaN   \n",
       "\n",
       "        Time                              Timezone  \\\n",
       "0        NaN                                   NaN   \n",
       "1    8:00 am  UTC-05:00 Eastern Time (US & Canada)   \n",
       "2        NaN                                   NaN   \n",
       "3    8:00 am  UTC-06:00 Central Time (US & Canada)   \n",
       "4        NaN                                   NaN   \n",
       "5    9:00 am                UTC-06:00 Central Time   \n",
       "6        NaN                                   NaN   \n",
       "7    5:00 pm  UTC-05:00 Eastern Time (US & Canada)   \n",
       "8        NaN                                   NaN   \n",
       "9   10:00 am                                   EST   \n",
       "10       NaN                                   NaN   \n",
       "11   4:30 pm  UTC-05:00 Eastern Time (US & Canada)   \n",
       "\n",
       "                                              Website  \\\n",
       "0                                                 NaN   \n",
       "1   [https://investors.jeld-wen.com, https://corpo...   \n",
       "2                                                 NaN   \n",
       "3   [https://www.apog.com/events-and-presentations...   \n",
       "4                                                 NaN   \n",
       "5                                 https://www.lee.net   \n",
       "6                                                 NaN   \n",
       "7   [https://www.businesswire.com/news/home/202312...   \n",
       "8                                                 NaN   \n",
       "9   https://www.prnewswire.com/news-releases/urban...   \n",
       "10                                                NaN   \n",
       "11  https://investors.asana.com,https://www.busine...   \n",
       "\n",
       "                                         Phone_Number             Passcode  \\\n",
       "0                                                 NaN                  NaN   \n",
       "1   [[live, 888-330-2446,+1-240-789-2732], [replay...  [No Passcode Found]   \n",
       "2                                                 NaN                  NaN   \n",
       "3                          [[live, []], [replay, []]]    No Passcode Found   \n",
       "4                                                 NaN                  NaN   \n",
       "5                               No phone-number Found    No Passcode Found   \n",
       "6                                                 NaN                  NaN   \n",
       "7                          [[live, []], [replay, []]]  [No Passcode Found]   \n",
       "8                                                 NaN                  NaN   \n",
       "9                    1-844-721-7241, +1) 409-207-6955              7824764   \n",
       "10                                                NaN                  NaN   \n",
       "11                              No phone-number Found    No Passcode Found   \n",
       "\n",
       "                                                  url  \n",
       "0   http://newsfile.refinitiv.com/getnewsfile/v1/s...  \n",
       "1   http://newsfile.refinitiv.com/getnewsfile/v1/s...  \n",
       "2   http://www.apog.com/news-releases/news-release...  \n",
       "3   http://www.apog.com/news-releases/news-release...  \n",
       "4   http://investors.lee.net/news-releases/news-re...  \n",
       "5   http://investors.lee.net/news-releases/news-re...  \n",
       "6   http://newsfile.refinitiv.com/getnewsfile/v1/s...  \n",
       "7   http://newsfile.refinitiv.com/getnewsfile/v1/s...  \n",
       "8   http://radioone.gcs-web.com/news-releases/news...  \n",
       "9   http://radioone.gcs-web.com/news-releases/news...  \n",
       "10  http://investors.asana.com/news-releases/news-...  \n",
       "11  http://investors.asana.com/news-releases/news-...  "
      ]
     },
     "execution_count": 33,
     "metadata": {},
     "output_type": "execute_result"
    }
   ],
   "source": [
    "df"
   ]
  },
  {
   "cell_type": "code",
   "execution_count": null,
   "metadata": {},
   "outputs": [],
   "source": []
  }
 ],
 "metadata": {
  "kernelspec": {
   "display_name": "py_env",
   "language": "python",
   "name": "python3"
  },
  "language_info": {
   "codemirror_mode": {
    "name": "ipython",
    "version": 3
   },
   "file_extension": ".py",
   "mimetype": "text/x-python",
   "name": "python",
   "nbconvert_exporter": "python",
   "pygments_lexer": "ipython3",
   "version": "3.12.3"
  }
 },
 "nbformat": 4,
 "nbformat_minor": 2
}
